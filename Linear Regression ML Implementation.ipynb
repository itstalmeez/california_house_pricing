{
 "cells": [
  {
   "cell_type": "code",
   "execution_count": 3,
   "id": "f40f5b6a-b05f-4c8f-865f-e8f4e6ad6b3e",
   "metadata": {},
   "outputs": [
    {
     "ename": "ModuleNotFoundError",
     "evalue": "No module named 'seaborn'",
     "output_type": "error",
     "traceback": [
      "\u001b[31m---------------------------------------------------------------------------\u001b[39m",
      "\u001b[31mModuleNotFoundError\u001b[39m                       Traceback (most recent call last)",
      "\u001b[36mCell\u001b[39m\u001b[36m \u001b[39m\u001b[32mIn[3]\u001b[39m\u001b[32m, line 4\u001b[39m\n\u001b[32m      2\u001b[39m \u001b[38;5;28;01mimport\u001b[39;00m\u001b[38;5;250m \u001b[39m\u001b[34;01mnumpy\u001b[39;00m\u001b[38;5;250m \u001b[39m\u001b[38;5;28;01mas\u001b[39;00m\u001b[38;5;250m \u001b[39m\u001b[34;01mnp\u001b[39;00m\n\u001b[32m      3\u001b[39m \u001b[38;5;28;01mimport\u001b[39;00m\u001b[38;5;250m \u001b[39m\u001b[34;01mmatplotlib\u001b[39;00m\u001b[38;5;250m \u001b[39m\u001b[38;5;28;01mas\u001b[39;00m\u001b[38;5;250m \u001b[39m\u001b[34;01mplt\u001b[39;00m\n\u001b[32m----> \u001b[39m\u001b[32m4\u001b[39m \u001b[38;5;28;01mimport\u001b[39;00m\u001b[38;5;250m \u001b[39m\u001b[34;01mseaborn\u001b[39;00m\u001b[38;5;250m \u001b[39m\u001b[38;5;28;01mas\u001b[39;00m\u001b[38;5;250m \u001b[39m\u001b[34;01msns\u001b[39;00m\n\u001b[32m      5\u001b[39m \u001b[38;5;28;01mimport\u001b[39;00m\u001b[38;5;250m \u001b[39m\u001b[34;01mmatplotlib\u001b[39;00m\u001b[34;01m.\u001b[39;00m\u001b[34;01mpyplot\u001b[39;00m\u001b[38;5;250m \u001b[39m\u001b[38;5;28;01mas\u001b[39;00m\u001b[38;5;250m \u001b[39m\u001b[34;01mplt\u001b[39;00m\n\u001b[32m      6\u001b[39m \u001b[38;5;28;01mfrom\u001b[39;00m\u001b[38;5;250m \u001b[39m\u001b[34;01msklearn\u001b[39;00m\u001b[34;01m.\u001b[39;00m\u001b[34;01mmodel_selection\u001b[39;00m\u001b[38;5;250m \u001b[39m\u001b[38;5;28;01mimport\u001b[39;00m train_test_split\n",
      "\u001b[31mModuleNotFoundError\u001b[39m: No module named 'seaborn'"
     ]
    }
   ],
   "source": [
    "import pandas as pd\n",
    "import numpy as np\n",
    "import matplotlib as plt\n",
    "import seaborn as sns\n",
    "import matplotlib.pyplot as plt\n",
    "from sklearn.model_selection import train_test_split\n",
    "from sklearn.preprocessing import StandardScaler\n",
    "# %matplotlib inline"
   ]
  },
  {
   "cell_type": "markdown",
   "id": "89cf9330-109c-412c-be42-c6d153a19fa7",
   "metadata": {},
   "source": [
    "### Lets load the Boston house Pricing Dataset"
   ]
  },
  {
   "cell_type": "code",
   "execution_count": null,
   "id": "099ce141-e1e3-47a2-827b-9ca4c09fd7e8",
   "metadata": {},
   "outputs": [],
   "source": [
    "from sklearn.datasets import fetch_california_housing"
   ]
  },
  {
   "cell_type": "code",
   "execution_count": null,
   "id": "398dcde2-c473-4e14-9ffd-e5c293c33b10",
   "metadata": {},
   "outputs": [],
   "source": [
    "df = fetch_california_housing()\n",
    "df.keys()"
   ]
  },
  {
   "cell_type": "code",
   "execution_count": null,
   "id": "3105cf94-e4fb-4ebc-9fda-31be9e2a0e59",
   "metadata": {},
   "outputs": [],
   "source": [
    "print(df.DESCR)"
   ]
  },
  {
   "cell_type": "code",
   "execution_count": null,
   "id": "1d1e5c3c-5618-4421-94ef-0a39c0b9e831",
   "metadata": {},
   "outputs": [],
   "source": [
    "print(df.target)"
   ]
  },
  {
   "cell_type": "code",
   "execution_count": null,
   "id": "1a00bb21-de74-436c-ac5f-2038f278b501",
   "metadata": {},
   "outputs": [],
   "source": [
    "print(df.data)"
   ]
  },
  {
   "cell_type": "code",
   "execution_count": null,
   "id": "ac9fcb29-c7e6-4ced-b539-20935fc896b6",
   "metadata": {},
   "outputs": [],
   "source": [
    "print(df.feature_names)"
   ]
  },
  {
   "cell_type": "code",
   "execution_count": null,
   "id": "9b7a1384-3add-48de-8d23-e4e61d2aa896",
   "metadata": {},
   "outputs": [],
   "source": [
    "print(df.frame)"
   ]
  },
  {
   "cell_type": "markdown",
   "id": "0feaeb57-a1ad-41e2-8bee-dda1e971446c",
   "metadata": {},
   "source": [
    "# Preparing The Dataset"
   ]
  },
  {
   "cell_type": "code",
   "execution_count": null,
   "id": "4fedeb48-567b-46ec-91a4-f96f7c250134",
   "metadata": {},
   "outputs": [],
   "source": [
    "dataset = pd.DataFrame(df.data, columns=df.feature_names)"
   ]
  },
  {
   "cell_type": "code",
   "execution_count": null,
   "id": "4b538a67-ad61-4810-8c80-57ad32a5462d",
   "metadata": {},
   "outputs": [],
   "source": [
    "dataset.head()"
   ]
  },
  {
   "cell_type": "code",
   "execution_count": null,
   "id": "41bd9474-02b5-4fbb-85c9-08f734317094",
   "metadata": {},
   "outputs": [],
   "source": [
    "dataset['Price'] = df.target"
   ]
  },
  {
   "cell_type": "code",
   "execution_count": null,
   "id": "4fe9c759-3f87-40cb-a4a7-56e58653eedb",
   "metadata": {},
   "outputs": [],
   "source": [
    "dataset.head()"
   ]
  },
  {
   "cell_type": "code",
   "execution_count": null,
   "id": "15bea38e-3893-4412-9d0f-0c7f7f9b1b4d",
   "metadata": {},
   "outputs": [],
   "source": [
    "dataset.info()"
   ]
  },
  {
   "cell_type": "code",
   "execution_count": null,
   "id": "78089e7f-8f2b-42e0-98b0-c10fdc8af8cd",
   "metadata": {},
   "outputs": [],
   "source": [
    "dataset.describe()"
   ]
  },
  {
   "cell_type": "code",
   "execution_count": null,
   "id": "df5b9cd3-4464-4aa4-9298-ff85227de507",
   "metadata": {},
   "outputs": [],
   "source": [
    "dataset.isnull().sum()"
   ]
  },
  {
   "cell_type": "markdown",
   "id": "c9d83804-4578-43ba-8985-2f9e94d2b60c",
   "metadata": {},
   "source": [
    "# Exploratory Data Analysis"
   ]
  },
  {
   "cell_type": "code",
   "execution_count": null,
   "id": "4712e999-0030-4532-a647-54c0dff5af0d",
   "metadata": {},
   "outputs": [],
   "source": [
    "# Compute the correlation matrix\n",
    "corr_matrix = dataset.corr()"
   ]
  },
  {
   "cell_type": "code",
   "execution_count": null,
   "id": "bf44697c-6738-4c0c-929e-807aff325217",
   "metadata": {},
   "outputs": [],
   "source": [
    "# Plot the heatmap\n",
    "plt.figure(figsize=(10, 8))\n",
    "sns.heatmap(corr_matrix, annot=True, fmt=\".2f\", cmap='coolwarm', square=True)\n",
    "plt.title('Feature Correlation Heatmap')\n",
    "plt.show()"
   ]
  },
  {
   "cell_type": "code",
   "execution_count": null,
   "id": "4e16cec8-04d4-4a09-bc21-367ab4eccbb9",
   "metadata": {},
   "outputs": [],
   "source": [
    "# sns.pairplot(dataset);"
   ]
  },
  {
   "cell_type": "code",
   "execution_count": null,
   "id": "22c1caee-f962-44b2-8d7e-a059435fcce0",
   "metadata": {},
   "outputs": [],
   "source": [
    "plt.scatter(dataset['MedInc'], dataset['Price']);\n",
    "plt.xlabel('Median Income');\n",
    "plt.ylabel('Price');\n",
    "plt.xticks(rotation=0);\n",
    "plt.title('median income in block group');"
   ]
  },
  {
   "cell_type": "code",
   "execution_count": null,
   "id": "8f7ca680-2d27-4aa7-82a5-600f1075ae10",
   "metadata": {},
   "outputs": [],
   "source": [
    "plt.scatter(dataset['HouseAge'], dataset['Price']);\n",
    "plt.xlabel('HouseAge');\n",
    "plt.ylabel('Price');\n",
    "plt.xticks(rotation=0);\n",
    "plt.title('median income in block group');"
   ]
  },
  {
   "cell_type": "code",
   "execution_count": null,
   "id": "339b8f01-0a35-4aed-9347-0c68c16d08a7",
   "metadata": {},
   "outputs": [],
   "source": [
    "plt.scatter(dataset['Population'], dataset['Price']);\n",
    "plt.xlabel('Population');\n",
    "plt.ylabel('Price');\n",
    "plt.xticks(rotation=0);\n",
    "plt.title('median income in block group');"
   ]
  },
  {
   "cell_type": "code",
   "execution_count": null,
   "id": "af5a1f0d-37ab-4036-8d77-405d3f3019c8",
   "metadata": {},
   "outputs": [],
   "source": []
  },
  {
   "cell_type": "code",
   "execution_count": null,
   "id": "8a106a76-ce91-4d32-bf42-28c85ba71cca",
   "metadata": {},
   "outputs": [],
   "source": [
    "plt.scatter(dataset['AveRooms'], dataset['Price']);\n",
    "plt.xlabel('AveRooms');\n",
    "plt.ylabel('Price');\n",
    "plt.xticks(rotation=0);\n",
    "plt.title('median income in block group');"
   ]
  },
  {
   "cell_type": "code",
   "execution_count": null,
   "id": "01b6f052-a861-4815-880c-f2dae1f30e51",
   "metadata": {},
   "outputs": [],
   "source": [
    "sns.regplot(x='AveRooms', y='Price', data=dataset)"
   ]
  },
  {
   "cell_type": "code",
   "execution_count": null,
   "id": "422169ff-0c1f-4b4e-99f8-44be59da4fad",
   "metadata": {},
   "outputs": [],
   "source": [
    "sns.regplot(x='Latitude', y='Price', data=dataset)"
   ]
  },
  {
   "cell_type": "markdown",
   "id": "4dd5f5e0-8007-490d-9219-46d4fd522668",
   "metadata": {},
   "source": [
    "## Independent and Dependent Features"
   ]
  },
  {
   "cell_type": "code",
   "execution_count": null,
   "id": "0b4a2846-390d-4124-9881-31194c3c086d",
   "metadata": {},
   "outputs": [],
   "source": [
    "x = dataset.iloc[:,:-1]\n",
    "y = dataset.iloc[:,-1]"
   ]
  },
  {
   "cell_type": "code",
   "execution_count": null,
   "id": "b47420ec-e9a5-45bd-a5df-01bf1c127e3c",
   "metadata": {},
   "outputs": [],
   "source": [
    "x.head()"
   ]
  },
  {
   "cell_type": "code",
   "execution_count": null,
   "id": "fc52bd77-a900-495e-8d23-fef37bba8057",
   "metadata": {},
   "outputs": [],
   "source": [
    "y.head()"
   ]
  },
  {
   "cell_type": "markdown",
   "id": "3bf56cdc-e942-44e0-a02b-97ac6715e2a7",
   "metadata": {},
   "source": [
    "## Train Split Test"
   ]
  },
  {
   "cell_type": "code",
   "execution_count": null,
   "id": "28e22d09-27eb-485f-9ea8-67a6808d6017",
   "metadata": {},
   "outputs": [],
   "source": [
    "x_train, x_test, y_train, y_test = train_test_split(x, y, test_size=0.3)"
   ]
  },
  {
   "cell_type": "code",
   "execution_count": null,
   "id": "8d3fc6e4-9979-44fc-9343-529b28dcb711",
   "metadata": {},
   "outputs": [],
   "source": [
    "Scaler = StandardScaler()"
   ]
  },
  {
   "cell_type": "code",
   "execution_count": null,
   "id": "9ecf92c6-0e29-4a41-883c-eb2d64c6212d",
   "metadata": {},
   "outputs": [],
   "source": [
    "x_train = Scaler.fit_transform(x_train)"
   ]
  },
  {
   "cell_type": "code",
   "execution_count": null,
   "id": "3569d955-82f3-41fe-89cd-e7666fed1420",
   "metadata": {},
   "outputs": [],
   "source": [
    "x_test = Scaler.transform(x_test)"
   ]
  },
  {
   "cell_type": "code",
   "execution_count": null,
   "id": "beda5b1c-a230-427b-8138-923c16d291ff",
   "metadata": {},
   "outputs": [],
   "source": [
    "from sklearn.linear_model import LinearRegression"
   ]
  },
  {
   "cell_type": "code",
   "execution_count": null,
   "id": "aa50c489-a802-476d-a128-1f2658ee381c",
   "metadata": {},
   "outputs": [],
   "source": [
    "regression = LinearRegression()"
   ]
  },
  {
   "cell_type": "code",
   "execution_count": null,
   "id": "0a5ca1fc-72ba-4429-8d4f-a672b53a078f",
   "metadata": {},
   "outputs": [],
   "source": [
    "regression.fit(x_train, y_train)"
   ]
  },
  {
   "cell_type": "code",
   "execution_count": null,
   "id": "1388d9fb-3788-4ac2-9731-e23df9b68095",
   "metadata": {},
   "outputs": [],
   "source": [
    "print(regression.coef_)"
   ]
  },
  {
   "cell_type": "code",
   "execution_count": null,
   "id": "bbeabe29-6daf-4a50-9345-9f3b860cdb40",
   "metadata": {},
   "outputs": [],
   "source": [
    "print(regression.intercept_)"
   ]
  },
  {
   "cell_type": "code",
   "execution_count": null,
   "id": "0f930640-3c3c-4767-b315-b3e6a11dc9d0",
   "metadata": {},
   "outputs": [],
   "source": [
    "regression.get_params()"
   ]
  },
  {
   "cell_type": "code",
   "execution_count": null,
   "id": "c3f0c466-bd90-4642-822b-3828457a17ef",
   "metadata": {},
   "outputs": [],
   "source": [
    "reg_pred = regression.predict(x_test)"
   ]
  },
  {
   "cell_type": "code",
   "execution_count": null,
   "id": "2303e863-80a2-444e-8f22-96c1540955d2",
   "metadata": {},
   "outputs": [],
   "source": [
    "reg_pred"
   ]
  },
  {
   "cell_type": "code",
   "execution_count": null,
   "id": "c0df1cb0-ca6f-4f5c-9a87-c0f6d1cf04aa",
   "metadata": {},
   "outputs": [],
   "source": [
    "# Plot Scatterplot\n",
    "plt.scatter(reg_pred, y_test)\n"
   ]
  },
  {
   "cell_type": "code",
   "execution_count": null,
   "id": "043b949c-9f4b-4501-b422-d6b342e66b99",
   "metadata": {},
   "outputs": [],
   "source": [
    "residuals = y_test - reg_pred\n",
    "residuals"
   ]
  },
  {
   "cell_type": "code",
   "execution_count": null,
   "id": "5055c397-707b-4dd4-af54-d3adb670c428",
   "metadata": {},
   "outputs": [],
   "source": [
    "sns.displot(residuals, kind='kde');"
   ]
  },
  {
   "cell_type": "markdown",
   "id": "64831848-3ab5-46ff-bf78-55fc5c48bf89",
   "metadata": {},
   "source": [
    "### Scatter Plot with respect to predictions and residuals"
   ]
  },
  {
   "cell_type": "code",
   "execution_count": null,
   "id": "b0c91991-9030-4dd5-b61a-06fccf9f9b7e",
   "metadata": {},
   "outputs": [],
   "source": [
    "plt.scatter(reg_pred, residuals);"
   ]
  },
  {
   "cell_type": "code",
   "execution_count": null,
   "id": "cbf85878-624e-448e-a57c-3a376c9842ec",
   "metadata": {},
   "outputs": [],
   "source": [
    "from sklearn.metrics import mean_squared_error\n",
    "from sklearn.metrics import mean_absolute_error\n"
   ]
  },
  {
   "cell_type": "code",
   "execution_count": null,
   "id": "78ead2c0-051c-453a-bd3d-975a62a418cf",
   "metadata": {},
   "outputs": [],
   "source": [
    "print(mean_absolute_error(y_test, reg_pred))\n",
    "print(mean_squared_error(y_test, reg_pred))\n",
    "print(np.sqrt(mean_squared_error(y_test, reg_pred)))"
   ]
  },
  {
   "cell_type": "markdown",
   "id": "45f194f3-8875-49ab-bdb4-2604d63d2d1b",
   "metadata": {},
   "source": [
    "### R Square and Adjusted R Square"
   ]
  },
  {
   "cell_type": "code",
   "execution_count": null,
   "id": "0c537d2f-4fdb-445c-94d2-c519711a9c38",
   "metadata": {},
   "outputs": [],
   "source": [
    "from sklearn.metrics import r2_score\n",
    "\n",
    "\n",
    "score = r2_score(y_test, reg_pred)\n",
    "print(score)"
   ]
  },
  {
   "cell_type": "code",
   "execution_count": null,
   "id": "c1fe24fa-3bc1-4737-8c31-ca62208d7e63",
   "metadata": {},
   "outputs": [],
   "source": [
    "# Display Adjusted R-Squared\n",
    "1 - (1-score)*(len(y_test)-1)/(len(y_test)-x_test.shape[1]-1)"
   ]
  },
  {
   "cell_type": "markdown",
   "id": "c0ff1714-38f4-44c8-9474-b65c4bdb0ca2",
   "metadata": {},
   "source": [
    "## New data Prediction"
   ]
  },
  {
   "cell_type": "code",
   "execution_count": null,
   "id": "4fb98a0e-138f-4346-bff9-eb1b52cc9310",
   "metadata": {},
   "outputs": [],
   "source": [
    "df.data[0].reshape(1,-1)"
   ]
  },
  {
   "cell_type": "code",
   "execution_count": null,
   "id": "2422ced1-4cd4-45e0-a9cc-50f464112d40",
   "metadata": {},
   "outputs": [],
   "source": [
    "Scaler.transform(df.data[0].reshape(1,-1))"
   ]
  },
  {
   "cell_type": "code",
   "execution_count": null,
   "id": "f3d2b89b-e214-4093-af87-967a32ab4740",
   "metadata": {},
   "outputs": [],
   "source": [
    "regression.predict(Scaler.transform(df.data[0].reshape(1,-1)))"
   ]
  },
  {
   "cell_type": "code",
   "execution_count": null,
   "id": "801cc274-db35-437c-845e-dc70f150ca49",
   "metadata": {},
   "outputs": [],
   "source": [
    "# Pickling The Model file for Deployment"
   ]
  },
  {
   "cell_type": "code",
   "execution_count": null,
   "id": "09729aa7-5dbb-46df-89a7-cec16f39b0b8",
   "metadata": {},
   "outputs": [],
   "source": [
    "import pickle"
   ]
  },
  {
   "cell_type": "code",
   "execution_count": null,
   "id": "43367d74-2cd4-4e7b-a273-8897f66a60b1",
   "metadata": {},
   "outputs": [],
   "source": [
    "pickle.dump(regression, open('regmodel.pkl', 'wb'))"
   ]
  },
  {
   "cell_type": "code",
   "execution_count": null,
   "id": "e820da56-d259-497e-b635-32fb6f7a8847",
   "metadata": {},
   "outputs": [],
   "source": [
    "# pickled_model = pickle.load(open('regmodel.pkl', 'rb'))\n",
    "\n",
    "pickled_model=pickle.load(open('regmodel.pkl','rb'))"
   ]
  },
  {
   "cell_type": "code",
   "execution_count": null,
   "id": "cd55fb3b-6810-4527-acea-7c446f59b2f3",
   "metadata": {},
   "outputs": [],
   "source": [
    "pickled_model.predict(Scaler.transform(df.data[0].reshape(1,-1)))"
   ]
  },
  {
   "cell_type": "code",
   "execution_count": null,
   "id": "7db60880-8bc3-4fb5-bfb4-86fd954123a0",
   "metadata": {},
   "outputs": [],
   "source": []
  },
  {
   "cell_type": "code",
   "execution_count": null,
   "id": "bd45fc91-dad3-4808-820c-e239bd84afb6",
   "metadata": {},
   "outputs": [],
   "source": []
  },
  {
   "cell_type": "code",
   "execution_count": null,
   "id": "28c892b2-b758-4409-bd49-e891df8a7c69",
   "metadata": {},
   "outputs": [],
   "source": []
  }
 ],
 "metadata": {
  "kernelspec": {
   "display_name": "Python 3",
   "language": "python",
   "name": "python3"
  },
  "language_info": {
   "codemirror_mode": {
    "name": "ipython",
    "version": 3
   },
   "file_extension": ".py",
   "mimetype": "text/x-python",
   "name": "python",
   "nbconvert_exporter": "python",
   "pygments_lexer": "ipython3",
   "version": "3.13.1"
  }
 },
 "nbformat": 4,
 "nbformat_minor": 5
}
